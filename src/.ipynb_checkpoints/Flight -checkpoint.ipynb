{
 "cells": [
  {
   "cell_type": "code",
   "execution_count": 1,
   "id": "643baf84",
   "metadata": {},
   "outputs": [
    {
     "ename": "ModuleNotFoundError",
     "evalue": "No module named 'geopy'",
     "output_type": "error",
     "traceback": [
      "\u001b[1;31m---------------------------------------------------------------------------\u001b[0m",
      "\u001b[1;31mModuleNotFoundError\u001b[0m                       Traceback (most recent call last)",
      "Input \u001b[1;32mIn [1]\u001b[0m, in \u001b[0;36m<cell line: 7>\u001b[1;34m()\u001b[0m\n\u001b[0;32m      5\u001b[0m \u001b[38;5;28;01mimport\u001b[39;00m \u001b[38;5;21;01mre\u001b[39;00m \u001b[38;5;28;01mas\u001b[39;00m \u001b[38;5;21;01mre\u001b[39;00m\n\u001b[0;32m      6\u001b[0m \u001b[38;5;28;01mfrom\u001b[39;00m \u001b[38;5;21;01mopencage\u001b[39;00m\u001b[38;5;21;01m.\u001b[39;00m\u001b[38;5;21;01mgeocoder\u001b[39;00m \u001b[38;5;28;01mimport\u001b[39;00m OpenCageGeocode\n\u001b[1;32m----> 7\u001b[0m \u001b[38;5;28;01mfrom\u001b[39;00m \u001b[38;5;21;01mgeopy\u001b[39;00m\u001b[38;5;21;01m.\u001b[39;00m\u001b[38;5;21;01mdistance\u001b[39;00m \u001b[38;5;28;01mimport\u001b[39;00m geodesic\n\u001b[0;32m      8\u001b[0m \u001b[38;5;28;01mimport\u001b[39;00m \u001b[38;5;21;01mrequests\u001b[39;00m\n",
      "\u001b[1;31mModuleNotFoundError\u001b[0m: No module named 'geopy'"
     ]
    }
   ],
   "source": [
    "import numpy as np\n",
    "import pandas as pd\n",
    "import seaborn as sb\n",
    "import matplotlib.pyplot as plt # we only need pyplot\n",
    "import re as re\n",
    "import requests"
   ]
  },
  {
   "cell_type": "code",
   "execution_count": null,
   "id": "3c7c8b4c",
   "metadata": {},
   "outputs": [],
   "source": [
    "flightData = pd.read_csv('https://raw.githubusercontent.com/chongwei49/IE0005-DSAI-Group-Barley/master/dataset/Clean_Dataset.csv')\n",
    "flightData.head(-1)"
   ]
  },
  {
   "cell_type": "code",
   "execution_count": 3,
   "id": "ce90a46e",
   "metadata": {},
   "outputs": [],
   "source": [
    "# flightData['airline'].describe()"
   ]
  },
  {
   "cell_type": "code",
   "execution_count": 4,
   "id": "521b5414",
   "metadata": {},
   "outputs": [
    {
     "data": {
      "text/plain": [
       "array(['SpiceJet', 'AirAsia', 'Vistara', 'GO_FIRST', 'Indigo',\n",
       "       'Air_India'], dtype=object)"
      ]
     },
     "execution_count": 4,
     "metadata": {},
     "output_type": "execute_result"
    }
   ],
   "source": [
    "flightData['airline'].unique()"
   ]
  },
  {
   "cell_type": "code",
   "execution_count": 5,
   "id": "43ae013d",
   "metadata": {},
   "outputs": [
    {
     "name": "stdout",
     "output_type": "stream",
     "text": [
      "['zero' 'one' 'two_or_more']\n"
     ]
    }
   ],
   "source": [
    "flightData['stops'] = flightData['stops'].str.split(r'\\n').str.get(0) #To clean 'stop' column\n",
    "print(flightData['stops'].unique())\n"
   ]
  },
  {
   "cell_type": "code",
   "execution_count": 6,
   "id": "c3d224b8",
   "metadata": {},
   "outputs": [],
   "source": [
    "airline_arr=flightData['airline'].to_numpy()"
   ]
  },
  {
   "cell_type": "code",
   "execution_count": 7,
   "id": "2e1c4740",
   "metadata": {},
   "outputs": [
    {
     "data": {
      "text/plain": [
       "array(['SpiceJet', 'SpiceJet', 'AirAsia', ..., 'Vistara', 'Vistara',\n",
       "       'Vistara'], dtype=object)"
      ]
     },
     "execution_count": 7,
     "metadata": {},
     "output_type": "execute_result"
    }
   ],
   "source": [
    "airline_arr"
   ]
  },
  {
   "cell_type": "code",
   "execution_count": 8,
   "id": "5119dbed",
   "metadata": {},
   "outputs": [],
   "source": [
    "def Convert_string_to_integer(pd):\n",
    "    temp_dict={}\n",
    "    arr = []\n",
    "    for i, item in enumerate(pd.unique()):\n",
    "        temp_dict[item]=i\n",
    "    for i ,item in enumerate(pd.to_numpy()):\n",
    "        arr.append(temp_dict[item])\n",
    "    return arr"
   ]
  },
  {
   "cell_type": "code",
   "execution_count": 9,
   "id": "41b855b1",
   "metadata": {},
   "outputs": [],
   "source": [
    "airline_integer=np.array(Convert_string_to_integer(flightData['airline']))\n",
    "source_city_integer=np.array(Convert_string_to_integer(flightData['source_city']))\n",
    "destination_city_integer=np.array(Convert_string_to_integer(flightData['destination_city']))\n",
    "\n",
    "departure_time_integer=np.array(Convert_string_to_integer(flightData['departure_time']))\n",
    "arrival_time_integer=np.array(Convert_string_to_integer(flightData['arrival_time']))\n",
    "\n",
    "class_integer=np.array(Convert_string_to_integer(flightData['class']))\n",
    "stops_integer=np.array(Convert_string_to_integer(flightData['stops']))\n",
    "\n",
    "\n",
    "duration=flightData['duration'].to_numpy()\n",
    "days_left=flightData['days_left'].to_numpy()"
   ]
  },
  {
   "cell_type": "code",
   "execution_count": 10,
   "id": "14636696",
   "metadata": {},
   "outputs": [
    {
     "data": {
      "text/plain": [
       "(300153, 9)"
      ]
     },
     "execution_count": 10,
     "metadata": {},
     "output_type": "execute_result"
    }
   ],
   "source": [
    "X_total=np.vstack((airline_integer,\n",
    "                   source_city_integer, \n",
    "                   destination_city_integer,\n",
    "                   departure_time_integer,\n",
    "                   arrival_time_integer,\n",
    "                   class_integer,\n",
    "                   stops_integer,\n",
    "                   duration,\n",
    "                   days_left)).T\n",
    "X_total.shape\n"
   ]
  },
  {
   "cell_type": "code",
   "execution_count": 11,
   "id": "efd1354b",
   "metadata": {},
   "outputs": [
    {
     "data": {
      "text/plain": [
       "array([ 2.  ,  5.  ,  3.  ,  2.  ,  4.  ,  1.  ,  1.  , 10.08, 49.  ])"
      ]
     },
     "execution_count": 11,
     "metadata": {},
     "output_type": "execute_result"
    }
   ],
   "source": [
    "X_total[-1]"
   ]
  },
  {
   "cell_type": "code",
   "execution_count": 12,
   "id": "460f277a",
   "metadata": {},
   "outputs": [
    {
     "data": {
      "text/plain": [
       "(300153,)"
      ]
     },
     "execution_count": 12,
     "metadata": {},
     "output_type": "execute_result"
    }
   ],
   "source": [
    "y_total=np.array(flightData['price'])\n",
    "y_total.shape"
   ]
  },
  {
   "cell_type": "code",
   "execution_count": 13,
   "id": "c7f3ef92",
   "metadata": {},
   "outputs": [
    {
     "data": {
      "text/html": [
       "<style>#sk-container-id-1 {color: black;background-color: white;}#sk-container-id-1 pre{padding: 0;}#sk-container-id-1 div.sk-toggleable {background-color: white;}#sk-container-id-1 label.sk-toggleable__label {cursor: pointer;display: block;width: 100%;margin-bottom: 0;padding: 0.3em;box-sizing: border-box;text-align: center;}#sk-container-id-1 label.sk-toggleable__label-arrow:before {content: \"▸\";float: left;margin-right: 0.25em;color: #696969;}#sk-container-id-1 label.sk-toggleable__label-arrow:hover:before {color: black;}#sk-container-id-1 div.sk-estimator:hover label.sk-toggleable__label-arrow:before {color: black;}#sk-container-id-1 div.sk-toggleable__content {max-height: 0;max-width: 0;overflow: hidden;text-align: left;background-color: #f0f8ff;}#sk-container-id-1 div.sk-toggleable__content pre {margin: 0.2em;color: black;border-radius: 0.25em;background-color: #f0f8ff;}#sk-container-id-1 input.sk-toggleable__control:checked~div.sk-toggleable__content {max-height: 200px;max-width: 100%;overflow: auto;}#sk-container-id-1 input.sk-toggleable__control:checked~label.sk-toggleable__label-arrow:before {content: \"▾\";}#sk-container-id-1 div.sk-estimator input.sk-toggleable__control:checked~label.sk-toggleable__label {background-color: #d4ebff;}#sk-container-id-1 div.sk-label input.sk-toggleable__control:checked~label.sk-toggleable__label {background-color: #d4ebff;}#sk-container-id-1 input.sk-hidden--visually {border: 0;clip: rect(1px 1px 1px 1px);clip: rect(1px, 1px, 1px, 1px);height: 1px;margin: -1px;overflow: hidden;padding: 0;position: absolute;width: 1px;}#sk-container-id-1 div.sk-estimator {font-family: monospace;background-color: #f0f8ff;border: 1px dotted black;border-radius: 0.25em;box-sizing: border-box;margin-bottom: 0.5em;}#sk-container-id-1 div.sk-estimator:hover {background-color: #d4ebff;}#sk-container-id-1 div.sk-parallel-item::after {content: \"\";width: 100%;border-bottom: 1px solid gray;flex-grow: 1;}#sk-container-id-1 div.sk-label:hover label.sk-toggleable__label {background-color: #d4ebff;}#sk-container-id-1 div.sk-serial::before {content: \"\";position: absolute;border-left: 1px solid gray;box-sizing: border-box;top: 0;bottom: 0;left: 50%;z-index: 0;}#sk-container-id-1 div.sk-serial {display: flex;flex-direction: column;align-items: center;background-color: white;padding-right: 0.2em;padding-left: 0.2em;position: relative;}#sk-container-id-1 div.sk-item {position: relative;z-index: 1;}#sk-container-id-1 div.sk-parallel {display: flex;align-items: stretch;justify-content: center;background-color: white;position: relative;}#sk-container-id-1 div.sk-item::before, #sk-container-id-1 div.sk-parallel-item::before {content: \"\";position: absolute;border-left: 1px solid gray;box-sizing: border-box;top: 0;bottom: 0;left: 50%;z-index: -1;}#sk-container-id-1 div.sk-parallel-item {display: flex;flex-direction: column;z-index: 1;position: relative;background-color: white;}#sk-container-id-1 div.sk-parallel-item:first-child::after {align-self: flex-end;width: 50%;}#sk-container-id-1 div.sk-parallel-item:last-child::after {align-self: flex-start;width: 50%;}#sk-container-id-1 div.sk-parallel-item:only-child::after {width: 0;}#sk-container-id-1 div.sk-dashed-wrapped {border: 1px dashed gray;margin: 0 0.4em 0.5em 0.4em;box-sizing: border-box;padding-bottom: 0.4em;background-color: white;}#sk-container-id-1 div.sk-label label {font-family: monospace;font-weight: bold;display: inline-block;line-height: 1.2em;}#sk-container-id-1 div.sk-label-container {text-align: center;}#sk-container-id-1 div.sk-container {/* jupyter's `normalize.less` sets `[hidden] { display: none; }` but bootstrap.min.css set `[hidden] { display: none !important; }` so we also need the `!important` here to be able to override the default hidden behavior on the sphinx rendered scikit-learn.org. See: https://github.com/scikit-learn/scikit-learn/issues/21755 */display: inline-block !important;position: relative;}#sk-container-id-1 div.sk-text-repr-fallback {display: none;}</style><div id=\"sk-container-id-1\" class=\"sk-top-container\"><div class=\"sk-text-repr-fallback\"><pre>LinearRegression()</pre><b>In a Jupyter environment, please rerun this cell to show the HTML representation or trust the notebook. <br />On GitHub, the HTML representation is unable to render, please try loading this page with nbviewer.org.</b></div><div class=\"sk-container\" hidden><div class=\"sk-item\"><div class=\"sk-estimator sk-toggleable\"><input class=\"sk-toggleable__control sk-hidden--visually\" id=\"sk-estimator-id-1\" type=\"checkbox\" checked><label for=\"sk-estimator-id-1\" class=\"sk-toggleable__label sk-toggleable__label-arrow\">LinearRegression</label><div class=\"sk-toggleable__content\"><pre>LinearRegression()</pre></div></div></div></div></div>"
      ],
      "text/plain": [
       "LinearRegression()"
      ]
     },
     "execution_count": 13,
     "metadata": {},
     "output_type": "execute_result"
    }
   ],
   "source": [
    "from sklearn.linear_model import LinearRegression\n",
    "from sklearn.model_selection import train_test_split\n",
    "from sklearn.metrics import mean_squared_error\n",
    "from sklearn.metrics import mean_absolute_error\n",
    "x_train, x_test, y_train, y_test = train_test_split(X_total, y_total, test_size = 0.2)\n",
    "\n",
    "\n",
    "# Create a Linear Regression object\n",
    "linreg = LinearRegression()\n",
    "\n",
    "# Train the Linear Regression model\n",
    "linreg.fit(x_train, y_train)"
   ]
  },
  {
   "cell_type": "code",
   "execution_count": 14,
   "id": "e5ca1f72",
   "metadata": {},
   "outputs": [
    {
     "name": "stdout",
     "output_type": "stream",
     "text": [
      "(240122, 9) (240122,)\n"
     ]
    }
   ],
   "source": [
    "print(x_train.shape,y_train.shape)\n"
   ]
  },
  {
   "cell_type": "code",
   "execution_count": 15,
   "id": "b364c75a",
   "metadata": {},
   "outputs": [
    {
     "name": "stdout",
     "output_type": "stream",
     "text": [
      "Intercept \t: b =  6549.89327533375\n",
      "Coefficients \t: a =  [-8.14464967e+02  2.04142902e+02 -2.84458732e+02 -8.65045040e+01\n",
      " -2.35947335e+01  4.57136763e+04  5.93613375e+03  7.88344974e+01\n",
      " -1.31375452e+02]\n"
     ]
    },
    {
     "data": {
      "text/plain": [
       "(9,)"
      ]
     },
     "execution_count": 15,
     "metadata": {},
     "output_type": "execute_result"
    }
   ],
   "source": [
    "print('Intercept \\t: b = ', linreg.intercept_)\n",
    "print('Coefficients \\t: a = ', linreg.coef_)\n",
    "linreg.coef_.shape"
   ]
  },
  {
   "cell_type": "code",
   "execution_count": 16,
   "id": "072987f4",
   "metadata": {},
   "outputs": [],
   "source": [
    "y_train_pred = linreg.predict(x_train)"
   ]
  },
  {
   "attachments": {
    "image.png": {
     "image/png": "[encoded data removed]"
    }
   },
   "cell_type": "markdown",
   "id": "cf42fdab",
   "metadata": {},
   "source": [
    "![image.png](attachment:image.png)"
   ]
  },
  {
   "cell_type": "code",
   "execution_count": 17,
   "id": "0a052a59",
   "metadata": {},
   "outputs": [
    {
     "name": "stdout",
     "output_type": "stream",
     "text": [
      "Explained Variance (R^2) on Train Set \t: 0.903573152672813\n",
      "MAE: 4601.940548976604\n",
      "MSE: 49671324.15133541\n"
     ]
    }
   ],
   "source": [
    "print(\"Explained Variance (R^2) on Train Set \\t:\", linreg.score(x_train, y_train))\n",
    "print(\"MAE:\", mean_absolute_error(y_train, y_train_pred))\n",
    "print(\"MSE:\", mean_squared_error(y_train, y_train_pred))"
   ]
  },
  {
   "cell_type": "code",
   "execution_count": 18,
   "id": "1fa072eb",
   "metadata": {},
   "outputs": [],
   "source": [
    "y_test_pred = linreg.predict(x_test)"
   ]
  },
  {
   "cell_type": "code",
   "execution_count": 19,
   "id": "1ed19096",
   "metadata": {},
   "outputs": [
    {
     "name": "stdout",
     "output_type": "stream",
     "text": [
      "Explained Variance (R^2) on test Set \t: 0.9035429659967809\n",
      "MAE: 4604.818267346775\n",
      "MSE: 49719513.405434966\n"
     ]
    }
   ],
   "source": [
    "print(\"Explained Variance (R^2) on test Set \\t:\", linreg.score(x_test, y_test))\n",
    "print(\"MAE:\", mean_absolute_error(y_test, y_test_pred))\n",
    "print(\"MSE:\", mean_squared_error( y_test,y_test_pred))"
   ]
  },
  {
   "cell_type": "code",
   "execution_count": 20,
   "id": "6b97e316",
   "metadata": {},
   "outputs": [
    {
     "data": {
      "text/plain": [
       "{'airline': {'SpiceJet': 0,\n",
       "  'AirAsia': 1,\n",
       "  'Vistara': 2,\n",
       "  'GO_FIRST': 3,\n",
       "  'Indigo': 4,\n",
       "  'Air_India': 5},\n",
       " 'source_city': {'Delhi': 0,\n",
       "  'Mumbai': 1,\n",
       "  'Bangalore': 2,\n",
       "  'Kolkata': 3,\n",
       "  'Hyderabad': 4,\n",
       "  'Chennai': 5},\n",
       " 'destination_city': {'Mumbai': 0,\n",
       "  'Bangalore': 1,\n",
       "  'Kolkata': 2,\n",
       "  'Hyderabad': 3,\n",
       "  'Chennai': 4,\n",
       "  'Delhi': 5},\n",
       " 'departure_time': {'Evening': 0,\n",
       "  'Early_Morning': 1,\n",
       "  'Morning': 2,\n",
       "  'Afternoon': 3,\n",
       "  'Night': 4,\n",
       "  'Late_Night': 5},\n",
       " 'arrival_time': {'Night': 0,\n",
       "  'Morning': 1,\n",
       "  'Early_Morning': 2,\n",
       "  'Afternoon': 3,\n",
       "  'Evening': 4,\n",
       "  'Late_Night': 5},\n",
       " 'class': {'Economy': 0, 'Business': 1},\n",
       " 'stops': {'zero': 0, 'one': 1, 'two_or_more': 2}}"
      ]
     },
     "execution_count": 20,
     "metadata": {},
     "output_type": "execute_result"
    }
   ],
   "source": [
    "def ouput_nestedDict():\n",
    "    big_dict={}\n",
    "    temp_lst=['airline','source_city','destination_city','departure_time','arrival_time','class','stops']\n",
    "    for var in temp_lst:\n",
    "        big_dict[var]={}\n",
    "        for i, item in enumerate(flightData[var].unique()):\n",
    "            big_dict[var][item]=i\n",
    "    return (big_dict)\n",
    "Big_dict=ouput_nestedDict()\n",
    "Big_dict"
   ]
  },
  {
   "cell_type": "code",
   "execution_count": 21,
   "id": "531b5742",
   "metadata": {},
   "outputs": [],
   "source": [
    "input_test=['SpiceJet','Delhi','Mumbai','Evening','Night','Economy','zero',2.17,1]#first dataset"
   ]
  },
  {
   "cell_type": "code",
   "execution_count": 22,
   "id": "929285b4",
   "metadata": {},
   "outputs": [
    {
     "data": {
      "text/plain": [
       "array([[0.  , 0.  , 0.  , 0.  , 0.  , 0.  , 0.  , 2.17, 1.  ]])"
      ]
     },
     "execution_count": 22,
     "metadata": {},
     "output_type": "execute_result"
    }
   ],
   "source": [
    "def test_input(lst):\n",
    "    final_lst=[]\n",
    "    temp_lst=['airline','source_city','destination_city','departure_time','arrival_time','class','stops']\n",
    "    for i,var in enumerate(lst[:7]):\n",
    "        final_lst.append(Big_dict[temp_lst[i]][var])\n",
    "\n",
    "    final_lst.extend(lst[-2:])\n",
    "    return np.array(final_lst)\n",
    "testA=test_input(input_test).reshape(1, -1)\n",
    "testA"
   ]
  },
  {
   "cell_type": "code",
   "execution_count": 23,
   "id": "bccbae00",
   "metadata": {},
   "outputs": [],
   "source": [
    "pred_test = linreg.predict(testA)"
   ]
  },
  {
   "cell_type": "code",
   "execution_count": 24,
   "id": "0cd0a9fd",
   "metadata": {},
   "outputs": [
    {
     "data": {
      "text/plain": [
       "array([6589.58868302])"
      ]
     },
     "execution_count": 24,
     "metadata": {},
     "output_type": "execute_result"
    }
   ],
   "source": [
    "pred_test"
   ]
  },
  {
   "cell_type": "code",
   "execution_count": 25,
   "id": "fbcd775a",
   "metadata": {},
   "outputs": [
    {
     "name": "stdout",
     "output_type": "stream",
     "text": [
      "2.10.0\n",
      "True\n"
     ]
    }
   ],
   "source": [
    "import tensorflow as tf\n",
    "print(tf.__version__)\n",
    "print(len(tf.config.list_physical_devices('GPU'))>0)  #can ignore this cell if dont have Nvidia GPU"
   ]
  },
  {
   "cell_type": "code",
   "execution_count": 26,
   "id": "c952d802",
   "metadata": {},
   "outputs": [
    {
     "data": {
      "text/plain": [
       "'2.10.0'"
      ]
     },
     "execution_count": 26,
     "metadata": {},
     "output_type": "execute_result"
    }
   ],
   "source": [
    "import keras\n",
    "keras.__version__\n"
   ]
  },
  {
   "cell_type": "code",
   "execution_count": 27,
   "id": "7c5788ce",
   "metadata": {},
   "outputs": [
    {
     "data": {
      "text/plain": [
       "(300153, 9)"
      ]
     },
     "execution_count": 27,
     "metadata": {},
     "output_type": "execute_result"
    }
   ],
   "source": [
    "X_total.shape"
   ]
  },
  {
   "cell_type": "code",
   "execution_count": 28,
   "id": "189937f0",
   "metadata": {},
   "outputs": [
    {
     "data": {
      "text/plain": [
       "(300153,)"
      ]
     },
     "execution_count": 28,
     "metadata": {},
     "output_type": "execute_result"
    }
   ],
   "source": [
    "y_total.shape"
   ]
  },
  {
   "cell_type": "code",
   "execution_count": null,
   "id": "b52a690d",
   "metadata": {},
   "outputs": [
    {
     "name": "stdout",
     "output_type": "stream",
     "text": [
      "Model: \"sequential\"\n",
      "_________________________________________________________________\n",
      " Layer (type)                Output Shape              Param #   \n",
      "=================================================================\n",
      " dense (Dense)               (None, 32)                320       \n",
      "                                                                 \n",
      " p_re_lu (PReLU)             (None, 32)                32        \n",
      "                                                                 \n",
      " dropout (Dropout)           (None, 32)                0         \n",
      "                                                                 \n",
      " dense_1 (Dense)             (None, 32)                1056      \n",
      "                                                                 \n",
      " p_re_lu_1 (PReLU)           (None, 32)                32        \n",
      "                                                                 \n",
      " dropout_1 (Dropout)         (None, 32)                0         \n",
      "                                                                 \n",
      " dense_2 (Dense)             (None, 1)                 33        \n",
      "                                                                 \n",
      "=================================================================\n",
      "Total params: 1,473\n",
      "Trainable params: 1,473\n",
      "Non-trainable params: 0\n",
      "_________________________________________________________________\n",
      "Epoch 1/50\n",
      "7504/7504 [==============================] - 17s 2ms/step - loss: 408744416.0000 - mae: 15108.1406 - val_loss: 47104644.0000 - val_mae: 4428.7427\n",
      "Epoch 2/50\n",
      "7504/7504 [==============================] - 15s 2ms/step - loss: 63153208.0000 - mae: 5022.3560 - val_loss: 40875744.0000 - val_mae: 3986.1934\n",
      "Epoch 3/50\n",
      "7504/7504 [==============================] - 15s 2ms/step - loss: 59613900.0000 - mae: 4854.0435 - val_loss: 39234236.0000 - val_mae: 3937.9482\n",
      "Epoch 4/50\n",
      "7504/7504 [==============================] - 15s 2ms/step - loss: 58094156.0000 - mae: 4762.6484 - val_loss: 37782488.0000 - val_mae: 3812.3835\n",
      "Epoch 5/50\n",
      "7504/7504 [==============================] - 15s 2ms/step - loss: 56950896.0000 - mae: 4695.1313 - val_loss: 37095240.0000 - val_mae: 3766.6238\n",
      "Epoch 6/50\n",
      "7504/7504 [==============================] - 15s 2ms/step - loss: 56166792.0000 - mae: 4644.6318 - val_loss: 36279248.0000 - val_mae: 3705.0820\n",
      "Epoch 7/50\n",
      "7504/7504 [==============================] - 15s 2ms/step - loss: 55153120.0000 - mae: 4592.4087 - val_loss: 35668292.0000 - val_mae: 3664.5498\n",
      "Epoch 8/50\n",
      "7504/7504 [==============================] - 16s 2ms/step - loss: 53796808.0000 - mae: 4525.1890 - val_loss: 35361168.0000 - val_mae: 3628.6003\n",
      "Epoch 9/50\n",
      "7504/7504 [==============================] - 15s 2ms/step - loss: 53956996.0000 - mae: 4507.9233 - val_loss: 35808152.0000 - val_mae: 3653.9268\n",
      "Epoch 10/50\n",
      "7504/7504 [==============================] - 15s 2ms/step - loss: 53394680.0000 - mae: 4479.8848 - val_loss: 35442376.0000 - val_mae: 3622.8865\n",
      "Epoch 11/50\n",
      "7504/7504 [==============================] - 15s 2ms/step - loss: 53074232.0000 - mae: 4462.0557 - val_loss: 34788884.0000 - val_mae: 3589.6021\n",
      "Epoch 12/50\n",
      "7504/7504 [==============================] - 15s 2ms/step - loss: 52834828.0000 - mae: 4441.7031 - val_loss: 35185656.0000 - val_mae: 3610.8901\n",
      "Epoch 13/50\n",
      "7504/7504 [==============================] - 16s 2ms/step - loss: 52531380.0000 - mae: 4415.7549 - val_loss: 36282072.0000 - val_mae: 3660.8582\n",
      "Epoch 14/50\n",
      "7504/7504 [==============================] - 15s 2ms/step - loss: 52546580.0000 - mae: 4413.8096 - val_loss: 33697552.0000 - val_mae: 3533.2080\n",
      "Epoch 15/50\n",
      "7504/7504 [==============================] - 15s 2ms/step - loss: 52278364.0000 - mae: 4395.7886 - val_loss: 33683540.0000 - val_mae: 3531.3237\n",
      "Epoch 16/50\n",
      "7504/7504 [==============================] - 15s 2ms/step - loss: 52180408.0000 - mae: 4387.2222 - val_loss: 33435246.0000 - val_mae: 3505.5608\n",
      "Epoch 17/50\n",
      "7504/7504 [==============================] - 15s 2ms/step - loss: 52196644.0000 - mae: 4381.0645 - val_loss: 33400778.0000 - val_mae: 3510.6536\n",
      "Epoch 18/50\n",
      "7504/7504 [==============================] - 16s 2ms/step - loss: 52544556.0000 - mae: 4385.9619 - val_loss: 33564312.0000 - val_mae: 3518.8369\n",
      "Epoch 19/50\n",
      "7504/7504 [==============================] - 16s 2ms/step - loss: 52127852.0000 - mae: 4369.4390 - val_loss: 34390048.0000 - val_mae: 3558.2830\n",
      "Epoch 20/50\n",
      "7504/7504 [==============================] - 16s 2ms/step - loss: 52007532.0000 - mae: 4359.4043 - val_loss: 33673036.0000 - val_mae: 3518.8145\n",
      "Epoch 21/50\n",
      "7504/7504 [==============================] - 16s 2ms/step - loss: 51991220.0000 - mae: 4358.1084 - val_loss: 33608712.0000 - val_mae: 3518.2310\n",
      "Epoch 22/50\n",
      "7504/7504 [==============================] - 19s 2ms/step - loss: 51456256.0000 - mae: 4340.3672 - val_loss: 34805768.0000 - val_mae: 3578.3447\n",
      "Epoch 23/50\n",
      "7504/7504 [==============================] - 15s 2ms/step - loss: 51599768.0000 - mae: 4333.7612 - val_loss: 35328380.0000 - val_mae: 3604.7893\n",
      "Epoch 24/50\n",
      "7504/7504 [==============================] - 16s 2ms/step - loss: 52041072.0000 - mae: 4349.1001 - val_loss: 34234188.0000 - val_mae: 3542.3127\n",
      "Epoch 25/50\n",
      "7504/7504 [==============================] - 16s 2ms/step - loss: 51536532.0000 - mae: 4328.3574 - val_loss: 33964604.0000 - val_mae: 3527.5742\n",
      "Epoch 26/50\n",
      "7504/7504 [==============================] - 16s 2ms/step - loss: 51528400.0000 - mae: 4322.7700 - val_loss: 33171160.0000 - val_mae: 3505.2751\n",
      "Epoch 27/50\n",
      "7504/7504 [==============================] - 16s 2ms/step - loss: 51272284.0000 - mae: 4316.1416 - val_loss: 33365248.0000 - val_mae: 3502.6697\n",
      "Epoch 28/50\n",
      "7504/7504 [==============================] - 15s 2ms/step - loss: 51005568.0000 - mae: 4309.4434 - val_loss: 33248688.0000 - val_mae: 3498.5649\n",
      "Epoch 29/50\n",
      "7504/7504 [==============================] - 16s 2ms/step - loss: 51138608.0000 - mae: 4308.6924 - val_loss: 33452318.0000 - val_mae: 3512.5681\n",
      "Epoch 30/50\n",
      "7504/7504 [==============================] - 15s 2ms/step - loss: 51031684.0000 - mae: 4304.1221 - val_loss: 34201128.0000 - val_mae: 3540.2517\n",
      "Epoch 31/50\n",
      "7504/7504 [==============================] - 15s 2ms/step - loss: 51016976.0000 - mae: 4290.7085 - val_loss: 33240056.0000 - val_mae: 3503.7668\n",
      "Epoch 32/50\n",
      "3129/7504 [===========>..................] - ETA: 8s - loss: 51468256.0000 - mae: 4312.7358"
     ]
    }
   ],
   "source": [
    "from keras import models\n",
    "from keras import layers\n",
    "from keras.layers import LeakyReLU\n",
    "from keras.layers import Flatten, Dense\n",
    "from keras.layers.core import Dense, Activation, Dropout\n",
    "from keras.layers import  PReLU\n",
    "from keras.models import Sequential\n",
    "from keras.initializers import Constant\n",
    "model = models.Sequential()\n",
    "model.add(layers.Dense(32,input_shape=(9,)))\n",
    "\n",
    "model.add(PReLU(alpha_initializer=Constant(value=0.125)))\n",
    "\n",
    "model.add(Dropout(0.25))\n",
    "model.add(layers.Dense(32))\n",
    "\n",
    "model.add(PReLU(alpha_initializer=Constant(value=0.125)))\n",
    "\n",
    "model.add(Dropout(0.25))\n",
    "\n",
    "opt = tf.keras.optimizers.SGD(learning_rate=0.01, momentum=0.9,nesterov=True)\n",
    "model.add(layers.Dense(1)) \n",
    "model.compile(optimizer='rmsprop', loss='mse', metrics=['mae'])\n",
    "\n",
    "model.summary()\n",
    "history = model.fit(x_train,\n",
    "                    y_train,\n",
    "                    epochs=50,\n",
    "                    batch_size=32,\n",
    "                    validation_data=(x_test, y_test))"
   ]
  },
  {
   "cell_type": "code",
   "execution_count": null,
   "id": "f614d90e",
   "metadata": {},
   "outputs": [],
   "source": [
    "loss = history.history['mae']\n",
    "val_loss = history.history['val_mae']\n",
    "epochs = range(1, len(loss) + 1)\n",
    "plt.plot(epochs, loss, 'bo', label='Training mae')\n",
    "plt.plot(epochs, val_loss, 'b', label='Validation mae')\n",
    "plt.title('Training and validation loss')\n",
    "plt.xlabel('Epochs')\n",
    "plt.ylabel('MAE')\n",
    "plt.legend()\n",
    "plt.show()"
   ]
  },
  {
   "cell_type": "code",
   "execution_count": null,
   "id": "912b6d6d",
   "metadata": {},
   "outputs": [],
   "source": [
    "y_train_predict=model.predict(x_train)"
   ]
  },
  {
   "cell_type": "code",
   "execution_count": null,
   "id": "30aed76f",
   "metadata": {},
   "outputs": [],
   "source": [
    "y_train_predict.shape"
   ]
  },
  {
   "cell_type": "code",
   "execution_count": null,
   "id": "6aff02ae",
   "metadata": {},
   "outputs": [],
   "source": [
    "y_test_predict=model.predict(x_test)"
   ]
  },
  {
   "cell_type": "code",
   "execution_count": null,
   "id": "ae1ab91c",
   "metadata": {},
   "outputs": [],
   "source": [
    "def coeff_determination(y_true, y_pred):\n",
    "    SS_res = sum(np.square(y_true-y_pred ))\n",
    "    SS_tot = sum(np.square( y_true -np.mean(y_true) ) )\n",
    "    return ( 1 - SS_res/(SS_tot) )\n"
   ]
  },
  {
   "cell_type": "code",
   "execution_count": null,
   "id": "e2dc25bb",
   "metadata": {},
   "outputs": [],
   "source": [
    "R_squre_train=coeff_determination(y_train.reshape(-1,1),y_train_predict)\n",
    "R_squre_test=coeff_determination(y_test.reshape(-1,1),y_test_predict)"
   ]
  },
  {
   "cell_type": "code",
   "execution_count": null,
   "id": "b787a20b",
   "metadata": {},
   "outputs": [],
   "source": [
    "print(\"Explained Variance (R^2) on Train Set \\t:\", R_squre_train)\n",
    "print(\"Explained Variance (R^2) on Test Set \\t:\", R_squre_test)   #better than ML babies r2"
   ]
  }
 ],
 "metadata": {
  "kernelspec": {
   "display_name": "Python 3 (ipykernel)",
   "language": "python",
   "name": "python3"
  },
  "language_info": {
   "codemirror_mode": {
    "name": "ipython",
    "version": 3
   },
   "file_extension": ".py",
   "mimetype": "text/x-python",
   "name": "python",
   "nbconvert_exporter": "python",
   "pygments_lexer": "ipython3",
   "version": "3.9.12"
  }
 },
 "nbformat": 4,
 "nbformat_minor": 5
}
